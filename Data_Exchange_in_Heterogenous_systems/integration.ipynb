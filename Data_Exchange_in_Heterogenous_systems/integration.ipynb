{
 "cells": [
  {
   "cell_type": "code",
   "execution_count": 5,
   "metadata": {},
   "outputs": [],
   "source": [
    "import pandas as pd\n",
    "import numpy as np\n"
   ]
  },
  {
   "cell_type": "code",
   "execution_count": 11,
   "metadata": {},
   "outputs": [],
   "source": [
    "data1=pd.read_csv(\"C:\\\\Users\\\\Sahil\\\\Desktop\\\\Data_Exchange_in_Heterogenous_systems\\\\Fortan_project\\\\sin_theta_values.csv\")\n",
    "data2=pd.read_csv(\"C:\\\\Users\\\\Sahil\\\\Desktop\\\\Data_Exchange_in_Heterogenous_systems\\\\Fortan_project\\\\sin_theta_values.csv\")"
   ]
  },
  {
   "cell_type": "code",
   "execution_count": 8,
   "metadata": {},
   "outputs": [],
   "source": [
    "# print(data1.head())"
   ]
  },
  {
   "cell_type": "code",
   "execution_count": 41,
   "metadata": {},
   "outputs": [],
   "source": [
    "# print(data2.head())"
   ]
  },
  {
   "cell_type": "code",
   "execution_count": 34,
   "metadata": {},
   "outputs": [],
   "source": [
    "arr1=data1['sin_theta_values']\n",
    "arr2=data2['sin_theta_values']\n",
    "arr1=arr1**2\n",
    "arr2=arr2**2\n",
    "arr_new=arr1+arr2"
   ]
  },
  {
   "cell_type": "code",
   "execution_count": 42,
   "metadata": {},
   "outputs": [
    {
     "name": "stdout",
     "output_type": "stream",
     "text": [
      "0     0.000609\n",
      "1     0.002436\n",
      "2     0.005478\n",
      "3     0.009732\n",
      "4     0.015192\n",
      "        ...   \n",
      "95    1.978148\n",
      "96    1.970296\n",
      "97    1.961262\n",
      "98    1.951057\n",
      "99    1.939693\n",
      "Name: sin_theta_values, Length: 100, dtype: float64\n"
     ]
    }
   ],
   "source": [
    "print(arr_new)"
   ]
  },
  {
   "cell_type": "code",
   "execution_count": 12,
   "metadata": {},
   "outputs": [],
   "source": [
    "total_sum=np.sum(arr_new)/(len(arr_new))"
   ]
  },
  {
   "cell_type": "code",
   "execution_count": 14,
   "metadata": {},
   "outputs": [],
   "source": [
    "if total_sum==1:\n",
    "    print(\"YES\")\n",
    "else: \n",
    "    print(\"NO\")"
   ]
  },
  {
   "cell_type": "code",
   "execution_count": null,
   "metadata": {},
   "outputs": [],
   "source": []
  }
 ],
 "metadata": {
  "kernelspec": {
   "display_name": "Python 2",
   "language": "python",
   "name": "python2"
  },
  "language_info": {
   "codemirror_mode": {
    "name": "ipython",
    "version": 2
   },
   "file_extension": ".py",
   "mimetype": "text/x-python",
   "name": "python",
   "nbconvert_exporter": "python",
   "pygments_lexer": "ipython2",
   "version": "2.7.17"
  }
 },
 "nbformat": 4,
 "nbformat_minor": 4
}
